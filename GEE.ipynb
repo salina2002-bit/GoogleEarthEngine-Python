{
 "cells": [
  {
   "cell_type": "code",
   "execution_count": 1,
   "metadata": {},
   "outputs": [],
   "source": [
    "import ee\n",
    "import geemap\n",
    "\n",
    "# Authenticate and initialize Earth Engine\n",
    "ee.Authenticate()\n",
    "ee.Initialize()"
   ]
  },
  {
   "cell_type": "code",
   "execution_count": 2,
   "metadata": {},
   "outputs": [
    {
     "data": {
      "text/html": [
       "\n",
       "            <style>\n",
       "                .geemap-dark {\n",
       "                    --jp-widgets-color: white;\n",
       "                    --jp-widgets-label-color: white;\n",
       "                    --jp-ui-font-color1: white;\n",
       "                    --jp-layout-color2: #454545;\n",
       "                    background-color: #383838;\n",
       "                }\n",
       "\n",
       "                .geemap-dark .jupyter-button {\n",
       "                    --jp-layout-color3: #383838;\n",
       "                }\n",
       "\n",
       "                .geemap-colab {\n",
       "                    background-color: var(--colab-primary-surface-color, white);\n",
       "                }\n",
       "\n",
       "                .geemap-colab .jupyter-button {\n",
       "                    --jp-layout-color3: var(--colab-primary-surface-color, white);\n",
       "                }\n",
       "            </style>\n",
       "            "
      ],
      "text/plain": [
       "<IPython.core.display.HTML object>"
      ]
     },
     "metadata": {},
     "output_type": "display_data"
    }
   ],
   "source": [
    "# Load Sentinel-1 ImageCollection\n",
    "sentinel_1 = ee.ImageCollection('COPERNICUS/S1_GRD').filterDate('2020-06-01', '2020-10-01')\n",
    "\n",
    "# Filter the Sentinel-1 collection\n",
    "vv_vh_iw = sentinel_1.filter(\n",
    "    ee.Filter.listContains('transmitterReceiverPolarisation', 'VV')\n",
    ").filter(\n",
    "    ee.Filter.listContains('transmitterReceiverPolarisation', 'VH')\n",
    ").filter(\n",
    "    ee.Filter.eq('instrumentMode', 'IW')\n",
    ")\n",
    "\n",
    "# Separate collections for ascending and descending orbits\n",
    "vv_vh_iw_asc = vv_vh_iw.filter(ee.Filter.eq('orbitProperties_pass', 'ASCENDING'))\n",
    "vv_vh_iw_desc = vv_vh_iw.filter(ee.Filter.eq('orbitProperties_pass', 'DESCENDING'))\n",
    "\n",
    "# Calculate temporal means\n",
    "vh_iw_asc_mean = vv_vh_iw_asc.select('VH').mean()\n",
    "vh_iw_desc_mean = vv_vh_iw_desc.select('VH').mean()\n",
    "vv_iw_asc_desc_mean = vv_vh_iw_asc.merge(vv_vh_iw_desc).select('VV').mean()\n",
    "vh_iw_asc_desc_mean = vv_vh_iw_asc.merge(vv_vh_iw_desc).select('VH').mean()\n"
   ]
  },
  {
   "cell_type": "code",
   "execution_count": 4,
   "metadata": {},
   "outputs": [
    {
     "data": {
      "text/html": [
       "\n",
       "            <style>\n",
       "                .geemap-dark {\n",
       "                    --jp-widgets-color: white;\n",
       "                    --jp-widgets-label-color: white;\n",
       "                    --jp-ui-font-color1: white;\n",
       "                    --jp-layout-color2: #454545;\n",
       "                    background-color: #383838;\n",
       "                }\n",
       "\n",
       "                .geemap-dark .jupyter-button {\n",
       "                    --jp-layout-color3: #383838;\n",
       "                }\n",
       "\n",
       "                .geemap-colab {\n",
       "                    background-color: var(--colab-primary-surface-color, white);\n",
       "                }\n",
       "\n",
       "                .geemap-colab .jupyter-button {\n",
       "                    --jp-layout-color3: var(--colab-primary-surface-color, white);\n",
       "                }\n",
       "            </style>\n",
       "            "
      ],
      "text/plain": [
       "<IPython.core.display.HTML object>"
      ]
     },
     "metadata": {},
     "output_type": "display_data"
    },
    {
     "data": {
      "application/vnd.jupyter.widget-view+json": {
       "model_id": "2d1d00935b8345e9a08d3387b7521f31",
       "version_major": 2,
       "version_minor": 0
      },
      "text/plain": [
       "Map(center=[26.79, 87.5919], controls=(WidgetControl(options=['position', 'transparent_bg'], widget=SearchData…"
      ]
     },
     "metadata": {},
     "output_type": "display_data"
    }
   ],
   "source": [
    "import geemap\n",
    "import ee\n",
    "\n",
    "# Initialize Earth Engine\n",
    "ee.Initialize()\n",
    "\n",
    "# Create a map object\n",
    "m = geemap.Map()\n",
    "m.add_basemap('SATELLITE')\n",
    "\n",
    "# Define the bounding box for Ilam District, Nepal\n",
    "ilam_bbox = ee.Geometry.Polygon(\n",
    "    [[\n",
    "        [87.3520, 26.5210], [87.4319, 26.3855], [88.1310, 26.4555], [87.5919, 27.1022], [87.4240, 27.0300], [87.3520, 26.5210]\n",
    "    ]]\n",
    ")\n",
    "\n",
    "# Filter Sentinel-1 data for Ilam District\n",
    "sentinel_1 = ee.ImageCollection('COPERNICUS/S1_GRD').filterBounds(ilam_bbox).filterDate('2020-06-01', '2020-10-01')\n",
    "\n",
    "# Filter the Sentinel-1 collection\n",
    "vv_vh_iw = sentinel_1.filter(\n",
    "    ee.Filter.listContains('transmitterReceiverPolarisation', 'VV')\n",
    ").filter(\n",
    "    ee.Filter.listContains('transmitterReceiverPolarisation', 'VH')\n",
    ").filter(\n",
    "    ee.Filter.eq('instrumentMode', 'IW')\n",
    ")\n",
    "\n",
    "# Separate collections for ascending and descending orbits\n",
    "vv_vh_iw_asc = vv_vh_iw.filter(ee.Filter.eq('orbitProperties_pass', 'ASCENDING'))\n",
    "vv_vh_iw_desc = vv_vh_iw.filter(ee.Filter.eq('orbitProperties_pass', 'DESCENDING'))\n",
    "\n",
    "# Calculate temporal means\n",
    "vh_iw_asc_mean = vv_vh_iw_asc.select('VH').mean()\n",
    "vh_iw_desc_mean = vv_vh_iw_desc.select('VH').mean()\n",
    "vv_iw_asc_desc_mean = vv_vh_iw_asc.merge(vv_vh_iw_desc).select('VV').mean()\n",
    "vh_iw_asc_desc_mean = vv_vh_iw_asc.merge(vv_vh_iw_desc).select('VH').mean()\n",
    "\n",
    "# Define color palette with a gradient from purple to yellow\n",
    "color_palette = {'min': -18, 'max': -4, 'palette': ['gray','black','yellow']}\n",
    "\n",
    "# Add layers to the map, clipped to Ilam District\n",
    "m.add_layer(vv_iw_asc_desc_mean.clip(ilam_bbox), color_palette, 'VV Ascending/Descending Mean')\n",
    "m.add_layer(vh_iw_asc_desc_mean.clip(ilam_bbox), color_palette, 'VH Ascending/Descending Mean')\n",
    "m.add_layer(vh_iw_asc_mean.clip(ilam_bbox), color_palette, 'VH Ascending Mean')\n",
    "m.add_layer(vh_iw_desc_mean.clip(ilam_bbox), color_palette, 'VH Descending Mean')\n",
    "\n",
    "# Set the center and zoom level to Ilam District\n",
    "m.set_center(87.5919, 26.7900, 10)  # Coordinates of the center and zoom level adjusted for Ilam District\n",
    "\n",
    "# Display the map\n",
    "m\n"
   ]
  },
  {
   "cell_type": "code",
   "execution_count": null,
   "metadata": {},
   "outputs": [],
   "source": []
  }
 ],
 "metadata": {
  "kernelspec": {
   "display_name": "base",
   "language": "python",
   "name": "python3"
  },
  "language_info": {
   "codemirror_mode": {
    "name": "ipython",
    "version": 3
   },
   "file_extension": ".py",
   "mimetype": "text/x-python",
   "name": "python",
   "nbconvert_exporter": "python",
   "pygments_lexer": "ipython3",
   "version": "3.9.19"
  }
 },
 "nbformat": 4,
 "nbformat_minor": 2
}
